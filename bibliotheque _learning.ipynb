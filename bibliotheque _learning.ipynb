{
  "nbformat": 4,
  "nbformat_minor": 0,
  "metadata": {
    "colab": {
      "provenance": [],
      "authorship_tag": "ABX9TyOqMTNDyYi6172A72CQcmII",
      "include_colab_link": true
    },
    "kernelspec": {
      "name": "python3",
      "display_name": "Python 3"
    },
    "language_info": {
      "name": "python"
    }
  },
  "cells": [
    {
      "cell_type": "markdown",
      "metadata": {
        "id": "view-in-github",
        "colab_type": "text"
      },
      "source": [
        "<a href=\"https://colab.research.google.com/github/nmeedg/data_learning/blob/main/bibliotheque%20_learning.ipynb\" target=\"_parent\"><img src=\"https://colab.research.google.com/assets/colab-badge.svg\" alt=\"Open In Colab\"/></a>"
      ]
    },
    {
      "cell_type": "markdown",
      "source": [
        "# **Bibliotheque Numpy**"
      ],
      "metadata": {
        "id": "C2C2AzmNxLOC"
      }
    },
    {
      "cell_type": "code",
      "execution_count": null,
      "metadata": {
        "colab": {
          "base_uri": "https://localhost:8080/"
        },
        "id": "1RWe9Y7MicoG",
        "outputId": "fbdfe0e2-adb1-481c-f021-449196d25fc9"
      },
      "outputs": [
        {
          "output_type": "stream",
          "name": "stdout",
          "text": [
            "<class 'numpy.ndarray'>\n",
            "199\n",
            "int64\n",
            "float64\n",
            "[-1.         -0.97979798 -0.95959596 -0.93939394 -0.91919192 -0.8989899\n",
            " -0.87878788 -0.85858586 -0.83838384 -0.81818182 -0.7979798  -0.77777778\n",
            " -0.75757576 -0.73737374 -0.71717172 -0.6969697  -0.67676768 -0.65656566\n",
            " -0.63636364 -0.61616162 -0.5959596  -0.57575758 -0.55555556 -0.53535354\n",
            " -0.51515152 -0.49494949 -0.47474747 -0.45454545 -0.43434343 -0.41414141\n",
            " -0.39393939 -0.37373737 -0.35353535 -0.33333333 -0.31313131 -0.29292929\n",
            " -0.27272727 -0.25252525 -0.23232323 -0.21212121 -0.19191919 -0.17171717\n",
            " -0.15151515 -0.13131313 -0.11111111 -0.09090909 -0.07070707 -0.05050505\n",
            " -0.03030303 -0.01010101  0.01010101  0.03030303  0.05050505  0.07070707\n",
            "  0.09090909  0.11111111  0.13131313  0.15151515  0.17171717  0.19191919\n",
            "  0.21212121  0.23232323  0.25252525  0.27272727  0.29292929  0.31313131\n",
            "  0.33333333  0.35353535  0.37373737  0.39393939  0.41414141  0.43434343\n",
            "  0.45454545  0.47474747  0.49494949  0.51515152  0.53535354  0.55555556\n",
            "  0.57575758  0.5959596   0.61616162  0.63636364  0.65656566  0.67676768\n",
            "  0.6969697   0.71717172  0.73737374  0.75757576  0.77777778  0.7979798\n",
            "  0.81818182  0.83838384  0.85858586  0.87878788  0.8989899   0.91919192\n",
            "  0.93939394  0.95959596  0.97979798  1.        ]\n"
          ]
        }
      ],
      "source": [
        "import numpy as np\n",
        "liste=range(1,200)\n",
        "liste=np.array(liste)\n",
        "print(type(liste))\n",
        "print(max(liste))\n",
        "print(liste.dtype)\n",
        "b=sum(liste)/len(liste)\n",
        "# testliste=np.ones(10)\n",
        "testliste=np.linspace(-1,1,100)\n",
        "print(testliste.dtype)\n",
        "print(testliste)\n",
        "# print(np.mean(liste))\n",
        "# print(b)"
      ]
    },
    {
      "cell_type": "code",
      "source": [
        "# print(testliste[:6])\n",
        "# print(testliste[-3:])\n",
        "# print(testliste[::2])\n",
        "# print(testliste[::-1])\n",
        "# print(testliste[testliste > 0.5])\n",
        "testliste[testliste > 0.5]=0\n",
        "print(testliste.shape)\n",
        "# print(max(testliste))\n",
        "\n",
        "print(testliste.argmax())\n",
        "testliste"
      ],
      "metadata": {
        "colab": {
          "base_uri": "https://localhost:8080/"
        },
        "id": "auYc43ewv9pN",
        "outputId": "73728468-e929-40ff-df2c-c38ffe8c98e2"
      },
      "execution_count": null,
      "outputs": [
        {
          "output_type": "stream",
          "name": "stdout",
          "text": [
            "(100,)\n",
            "74\n"
          ]
        },
        {
          "output_type": "execute_result",
          "data": {
            "text/plain": [
              "array([-1.        , -0.97979798, -0.95959596, -0.93939394, -0.91919192,\n",
              "       -0.8989899 , -0.87878788, -0.85858586, -0.83838384, -0.81818182,\n",
              "       -0.7979798 , -0.77777778, -0.75757576, -0.73737374, -0.71717172,\n",
              "       -0.6969697 , -0.67676768, -0.65656566, -0.63636364, -0.61616162,\n",
              "       -0.5959596 , -0.57575758, -0.55555556, -0.53535354, -0.51515152,\n",
              "       -0.49494949, -0.47474747, -0.45454545, -0.43434343, -0.41414141,\n",
              "       -0.39393939, -0.37373737, -0.35353535, -0.33333333, -0.31313131,\n",
              "       -0.29292929, -0.27272727, -0.25252525, -0.23232323, -0.21212121,\n",
              "       -0.19191919, -0.17171717, -0.15151515, -0.13131313, -0.11111111,\n",
              "       -0.09090909, -0.07070707, -0.05050505, -0.03030303, -0.01010101,\n",
              "        0.01010101,  0.03030303,  0.05050505,  0.07070707,  0.09090909,\n",
              "        0.11111111,  0.13131313,  0.15151515,  0.17171717,  0.19191919,\n",
              "        0.21212121,  0.23232323,  0.25252525,  0.27272727,  0.29292929,\n",
              "        0.31313131,  0.33333333,  0.35353535,  0.37373737,  0.39393939,\n",
              "        0.41414141,  0.43434343,  0.45454545,  0.47474747,  0.49494949,\n",
              "        0.        ,  0.        ,  0.        ,  0.        ,  0.        ,\n",
              "        0.        ,  0.        ,  0.        ,  0.        ,  0.        ,\n",
              "        0.        ,  0.        ,  0.        ,  0.        ,  0.        ,\n",
              "        0.        ,  0.        ,  0.        ,  0.        ,  0.        ,\n",
              "        0.        ,  0.        ,  0.        ,  0.        ,  0.        ])"
            ]
          },
          "metadata": {},
          "execution_count": 45
        }
      ]
    },
    {
      "cell_type": "code",
      "source": [
        "maliste=[1800,1500,2000,3000,2172,5000,1400,1200,1100,1300]\n",
        "revenus=np.array(maliste)\n",
        "haut_revenus=revenus[revenus >= 3000]\n",
        "somme=np.sum(revenus)\n",
        "moyenne=np.mean(revenus)\n",
        "revenus[revenus == 1400] += 200\n",
        "display(revenus)\n",
        "print(moyenne,somme,haut_revenus)"
      ],
      "metadata": {
        "id": "3yKUibLn6tWe",
        "colab": {
          "base_uri": "https://localhost:8080/",
          "height": 52
        },
        "outputId": "136ddff0-e3a9-413f-c84e-4b3df1e1722e"
      },
      "execution_count": null,
      "outputs": [
        {
          "output_type": "display_data",
          "data": {
            "text/plain": [
              "array([1800, 1500, 2000, 3000, 2172, 5000, 1600, 1200, 1100, 1300])"
            ]
          },
          "metadata": {}
        },
        {
          "output_type": "stream",
          "name": "stdout",
          "text": [
            "2047.2 20472 [3000 5000]\n"
          ]
        }
      ]
    },
    {
      "cell_type": "code",
      "source": [
        "multidimliste=[\n",
        "    [1,2,3],\n",
        "    [4,5,6]\n",
        "]\n",
        "multilistnumpy=np.array(multidimliste)\n",
        "testtable=np.random.randint(1,8,(2,3))\n",
        "display(testtable)"
      ],
      "metadata": {
        "colab": {
          "base_uri": "https://localhost:8080/",
          "height": 52
        },
        "id": "b41lQalcVmL3",
        "outputId": "0b65c130-4400-44c1-bac1-98155d385dd6"
      },
      "execution_count": null,
      "outputs": [
        {
          "output_type": "display_data",
          "data": {
            "text/plain": [
              "array([[1, 7, 2],\n",
              "       [6, 4, 1]])"
            ]
          },
          "metadata": {}
        }
      ]
    },
    {
      "cell_type": "code",
      "source": [
        "a=np.array(\n",
        "   [ [1,2],\n",
        "    [3,4]]\n",
        ")\n",
        "b=np.array(\n",
        "    [[5,10],\n",
        "    [15,20]]\n",
        ")\n",
        "c=np.array(\n",
        "    [[2,4,6],\n",
        "     [3,13,22],\n",
        "    [8,10,12]]\n",
        ")\n",
        "# print(a@b)\n",
        "# print(a.dot(b))\n",
        "a\n",
        "# print(a.T)\n",
        "a[0,1]=10\n",
        "# c[:2,-2:]\n",
        "print(c[:,1])\n",
        "c[c[:,1] > 8]\n",
        "np.vstack((c,(1,3,5)))"
      ],
      "metadata": {
        "colab": {
          "base_uri": "https://localhost:8080/"
        },
        "id": "Y1Iy_w19W-7e",
        "outputId": "83ba8f38-81be-4747-e934-cc85c01fd3d9"
      },
      "execution_count": null,
      "outputs": [
        {
          "output_type": "stream",
          "name": "stdout",
          "text": [
            "[ 4 13 10]\n"
          ]
        },
        {
          "output_type": "execute_result",
          "data": {
            "text/plain": [
              "array([[ 2,  4,  6],\n",
              "       [ 3, 13, 22],\n",
              "       [ 8, 10, 12],\n",
              "       [ 1,  3,  5]])"
            ]
          },
          "metadata": {},
          "execution_count": 55
        }
      ]
    },
    {
      "cell_type": "markdown",
      "source": [],
      "metadata": {
        "id": "-nJdTgqOgm7r"
      }
    },
    {
      "cell_type": "markdown",
      "source": [
        "# **Pandas Library**"
      ],
      "metadata": {
        "id": "mh4RaErZgktW"
      }
    },
    {
      "cell_type": "code",
      "source": [],
      "metadata": {
        "id": "YwJlHwSzfj5N"
      },
      "execution_count": null,
      "outputs": []
    }
  ]
}